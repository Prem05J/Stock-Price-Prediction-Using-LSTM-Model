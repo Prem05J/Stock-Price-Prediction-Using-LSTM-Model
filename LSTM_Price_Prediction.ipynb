{
  "nbformat": 4,
  "nbformat_minor": 0,
  "metadata": {
    "colab": {
      "name": "LSTM Price Prediction.ipynb",
      "provenance": [],
      "collapsed_sections": []
    },
    "kernelspec": {
      "name": "python3",
      "display_name": "Python 3"
    }
  },
  "cells": [
    {
      "cell_type": "code",
      "metadata": {
        "id": "Zgo4rIzxZ58e"
      },
      "source": [
        "import math\r\n",
        "import numpy as np \r\n",
        "import pandas_datareader as web\r\n",
        "import pandas as pd\r\n",
        "import matplotlib.pyplot as plt\r\n",
        "from sklearn.preprocessing import MinMaxScaler\r\n",
        "from keras.models import Sequential \r\n",
        "from keras.layers import LSTM , Dense \r\n",
        "plt.style.use('fivethirtyeight')"
      ],
      "execution_count": 2,
      "outputs": []
    },
    {
      "cell_type": "code",
      "metadata": {
        "id": "-YK6L_kqaoVm"
      },
      "source": [
        "df = web.DataReader('DATAMATICS.NS' , data_source = 'yahoo' , start = '2012-03-03' , end = '2019-03-03')"
      ],
      "execution_count": 3,
      "outputs": []
    },
    {
      "cell_type": "code",
      "metadata": {
        "colab": {
          "base_uri": "https://localhost:8080/",
          "height": 446
        },
        "id": "X06bwEZZbNbQ",
        "outputId": "2c7f991a-f216-41c9-a374-71a6419ece0e"
      },
      "source": [
        "df"
      ],
      "execution_count": 4,
      "outputs": [
        {
          "output_type": "execute_result",
          "data": {
            "text/html": [
              "<div>\n",
              "<style scoped>\n",
              "    .dataframe tbody tr th:only-of-type {\n",
              "        vertical-align: middle;\n",
              "    }\n",
              "\n",
              "    .dataframe tbody tr th {\n",
              "        vertical-align: top;\n",
              "    }\n",
              "\n",
              "    .dataframe thead th {\n",
              "        text-align: right;\n",
              "    }\n",
              "</style>\n",
              "<table border=\"1\" class=\"dataframe\">\n",
              "  <thead>\n",
              "    <tr style=\"text-align: right;\">\n",
              "      <th></th>\n",
              "      <th>High</th>\n",
              "      <th>Low</th>\n",
              "      <th>Open</th>\n",
              "      <th>Close</th>\n",
              "      <th>Volume</th>\n",
              "      <th>Adj Close</th>\n",
              "    </tr>\n",
              "    <tr>\n",
              "      <th>Date</th>\n",
              "      <th></th>\n",
              "      <th></th>\n",
              "      <th></th>\n",
              "      <th></th>\n",
              "      <th></th>\n",
              "      <th></th>\n",
              "    </tr>\n",
              "  </thead>\n",
              "  <tbody>\n",
              "    <tr>\n",
              "      <th>2012-03-05</th>\n",
              "      <td>29.500000</td>\n",
              "      <td>28.200001</td>\n",
              "      <td>28.500000</td>\n",
              "      <td>29.000000</td>\n",
              "      <td>1036.0</td>\n",
              "      <td>24.755716</td>\n",
              "    </tr>\n",
              "    <tr>\n",
              "      <th>2012-03-06</th>\n",
              "      <td>30.299999</td>\n",
              "      <td>28.200001</td>\n",
              "      <td>30.299999</td>\n",
              "      <td>28.400000</td>\n",
              "      <td>2452.0</td>\n",
              "      <td>24.243530</td>\n",
              "    </tr>\n",
              "    <tr>\n",
              "      <th>2012-03-07</th>\n",
              "      <td>28.799999</td>\n",
              "      <td>27.299999</td>\n",
              "      <td>27.600000</td>\n",
              "      <td>27.700001</td>\n",
              "      <td>5316.0</td>\n",
              "      <td>23.645977</td>\n",
              "    </tr>\n",
              "    <tr>\n",
              "      <th>2012-03-09</th>\n",
              "      <td>30.200001</td>\n",
              "      <td>28.250000</td>\n",
              "      <td>30.200001</td>\n",
              "      <td>28.299999</td>\n",
              "      <td>4179.0</td>\n",
              "      <td>24.158167</td>\n",
              "    </tr>\n",
              "    <tr>\n",
              "      <th>2012-03-12</th>\n",
              "      <td>30.000000</td>\n",
              "      <td>28.250000</td>\n",
              "      <td>30.000000</td>\n",
              "      <td>29.000000</td>\n",
              "      <td>1003.0</td>\n",
              "      <td>24.755716</td>\n",
              "    </tr>\n",
              "    <tr>\n",
              "      <th>...</th>\n",
              "      <td>...</td>\n",
              "      <td>...</td>\n",
              "      <td>...</td>\n",
              "      <td>...</td>\n",
              "      <td>...</td>\n",
              "      <td>...</td>\n",
              "    </tr>\n",
              "    <tr>\n",
              "      <th>2019-02-25</th>\n",
              "      <td>94.050003</td>\n",
              "      <td>85.550003</td>\n",
              "      <td>86.949997</td>\n",
              "      <td>90.900002</td>\n",
              "      <td>187546.0</td>\n",
              "      <td>89.610641</td>\n",
              "    </tr>\n",
              "    <tr>\n",
              "      <th>2019-02-26</th>\n",
              "      <td>90.500000</td>\n",
              "      <td>86.650002</td>\n",
              "      <td>90.500000</td>\n",
              "      <td>87.500000</td>\n",
              "      <td>59574.0</td>\n",
              "      <td>86.258865</td>\n",
              "    </tr>\n",
              "    <tr>\n",
              "      <th>2019-02-27</th>\n",
              "      <td>91.800003</td>\n",
              "      <td>87.000000</td>\n",
              "      <td>88.050003</td>\n",
              "      <td>87.949997</td>\n",
              "      <td>42035.0</td>\n",
              "      <td>86.702477</td>\n",
              "    </tr>\n",
              "    <tr>\n",
              "      <th>2019-02-28</th>\n",
              "      <td>89.849998</td>\n",
              "      <td>87.400002</td>\n",
              "      <td>87.400002</td>\n",
              "      <td>88.250000</td>\n",
              "      <td>28371.0</td>\n",
              "      <td>86.998222</td>\n",
              "    </tr>\n",
              "    <tr>\n",
              "      <th>2019-03-01</th>\n",
              "      <td>104.800003</td>\n",
              "      <td>89.000000</td>\n",
              "      <td>89.949997</td>\n",
              "      <td>103.000000</td>\n",
              "      <td>328272.0</td>\n",
              "      <td>101.539001</td>\n",
              "    </tr>\n",
              "  </tbody>\n",
              "</table>\n",
              "<p>1723 rows × 6 columns</p>\n",
              "</div>"
            ],
            "text/plain": [
              "                  High        Low       Open       Close    Volume   Adj Close\n",
              "Date                                                                          \n",
              "2012-03-05   29.500000  28.200001  28.500000   29.000000    1036.0   24.755716\n",
              "2012-03-06   30.299999  28.200001  30.299999   28.400000    2452.0   24.243530\n",
              "2012-03-07   28.799999  27.299999  27.600000   27.700001    5316.0   23.645977\n",
              "2012-03-09   30.200001  28.250000  30.200001   28.299999    4179.0   24.158167\n",
              "2012-03-12   30.000000  28.250000  30.000000   29.000000    1003.0   24.755716\n",
              "...                ...        ...        ...         ...       ...         ...\n",
              "2019-02-25   94.050003  85.550003  86.949997   90.900002  187546.0   89.610641\n",
              "2019-02-26   90.500000  86.650002  90.500000   87.500000   59574.0   86.258865\n",
              "2019-02-27   91.800003  87.000000  88.050003   87.949997   42035.0   86.702477\n",
              "2019-02-28   89.849998  87.400002  87.400002   88.250000   28371.0   86.998222\n",
              "2019-03-01  104.800003  89.000000  89.949997  103.000000  328272.0  101.539001\n",
              "\n",
              "[1723 rows x 6 columns]"
            ]
          },
          "metadata": {
            "tags": []
          },
          "execution_count": 4
        }
      ]
    },
    {
      "cell_type": "code",
      "metadata": {
        "colab": {
          "base_uri": "https://localhost:8080/",
          "height": 360
        },
        "id": "-4TqvrCAbRKm",
        "outputId": "42a8914a-72f7-4bff-cc28-323b5428d590"
      },
      "source": [
        "plt.plot(df['Close'] , label = 'Close')\r\n",
        "plt.ylabel('Price of TCS Stock')\r\n",
        "plt.xlabel('Date')\r\n",
        "plt.title('Datamatics Stock Price')\r\n",
        "plt.figure(figsize=(8,16))"
      ],
      "execution_count": 5,
      "outputs": [
        {
          "output_type": "execute_result",
          "data": {
            "text/plain": [
              "<Figure size 576x1152 with 0 Axes>"
            ]
          },
          "metadata": {
            "tags": []
          },
          "execution_count": 5
        },
        {
          "output_type": "display_data",
          "data": {
            "image/png": "[encoded data removed]",
            "text/plain": [
              "<Figure size 432x288 with 1 Axes>"
            ]
          },
          "metadata": {
            "tags": []
          }
        },
        {
          "output_type": "display_data",
          "data": {
            "text/plain": [
              "<Figure size 576x1152 with 0 Axes>"
            ]
          },
          "metadata": {
            "tags": []
          }
        }
      ]
    },
    {
      "cell_type": "code",
      "metadata": {
        "id": "1JignCZOcBMr"
      },
      "source": [
        "data = df.filter(['Close'])\r\n",
        "raw_data = data.values \r\n"
      ],
      "execution_count": 7,
      "outputs": []
    },
    {
      "cell_type": "code",
      "metadata": {
        "id": "4u3Wv1lwcgU3"
      },
      "source": [
        "training_data_len = math.ceil(len(raw_data)*.8)"
      ],
      "execution_count": null,
      "outputs": []
    },
    {
      "cell_type": "code",
      "metadata": {
        "id": "o0Eu38SFct9a"
      },
      "source": [
        "scaler = MinMaxScaler(feature_range= (0,1))\r\n",
        "scaled_data = scaler.fit_transform(raw_data)"
      ],
      "execution_count": null,
      "outputs": []
    },
    {
      "cell_type": "code",
      "metadata": {
        "colab": {
          "base_uri": "https://localhost:8080/"
        },
        "id": "MyCWymSXdBa5",
        "outputId": "91a6a1fd-3cd0-4023-ca27-689006f6e91d"
      },
      "source": [
        "len(raw_data)"
      ],
      "execution_count": null,
      "outputs": [
        {
          "output_type": "execute_result",
          "data": {
            "text/plain": [
              "1723"
            ]
          },
          "metadata": {
            "tags": []
          },
          "execution_count": 103
        }
      ]
    },
    {
      "cell_type": "code",
      "metadata": {
        "colab": {
          "base_uri": "https://localhost:8080/"
        },
        "id": "4RRMOJrgdGIl",
        "outputId": "4be3ce8e-17dd-416e-8fcb-d5f9194118b0"
      },
      "source": [
        "print(training_data_len)"
      ],
      "execution_count": null,
      "outputs": [
        {
          "output_type": "stream",
          "text": [
            "1379\n"
          ],
          "name": "stdout"
        }
      ]
    },
    {
      "cell_type": "code",
      "metadata": {
        "id": "NuyPCwmddNbI"
      },
      "source": [
        "training_data = scaled_data[0 : training_data_len , :]"
      ],
      "execution_count": null,
      "outputs": []
    },
    {
      "cell_type": "code",
      "metadata": {
        "colab": {
          "base_uri": "https://localhost:8080/"
        },
        "id": "B2eLjjdedXge",
        "outputId": "1963c3cd-7cc6-4371-b882-07c71bf590f2"
      },
      "source": [
        "x_train = []\r\n",
        "y_train = []\r\n",
        "\r\n",
        "for i in range(60 , len(training_data)):\r\n",
        "  x_train.append(training_data[i-60:i,0])\r\n",
        "  y_train.append(training_data[i,0 ])\r\n",
        "  if i <= 61:\r\n",
        "    print(x_train)\r\n",
        "    print( )\r\n",
        "    print(y_train)"
      ],
      "execution_count": null,
      "outputs": [
        {
          "output_type": "stream",
          "text": [
            "[array([0.09139213, 0.08714133, 0.08218208, 0.08643286, 0.09139213,\n",
            "       0.09387177, 0.08855827, 0.08537017, 0.08855827, 0.08430747,\n",
            "       0.08430747, 0.08749558, 0.08537017, 0.08147361, 0.07757704,\n",
            "       0.08218208, 0.07970244, 0.07332625, 0.0793482 , 0.08111937,\n",
            "       0.08111937, 0.083599  , 0.08324478, 0.08714133, 0.08182784,\n",
            "       0.08111937, 0.08076514, 0.07863975, 0.0846617 , 0.08395324,\n",
            "       0.08076514, 0.08182784, 0.08501594, 0.08607864, 0.08289053,\n",
            "       0.08218208, 0.08005667, 0.08076514, 0.08926674, 0.08962097,\n",
            "       0.08076514, 0.08537017, 0.08537017, 0.08147361, 0.08572441,\n",
            "       0.09174636, 0.0846617 , 0.08678711, 0.08643286, 0.11760539,\n",
            "       0.10414452, 0.1027276 , 0.09599716, 0.10131066, 0.10591568,\n",
            "       0.10520723, 0.10237335, 0.09776833, 0.09564293, 0.0963514 ])]\n",
            "\n",
            "[0.09493446443319091]\n",
            "[array([0.09139213, 0.08714133, 0.08218208, 0.08643286, 0.09139213,\n",
            "       0.09387177, 0.08855827, 0.08537017, 0.08855827, 0.08430747,\n",
            "       0.08430747, 0.08749558, 0.08537017, 0.08147361, 0.07757704,\n",
            "       0.08218208, 0.07970244, 0.07332625, 0.0793482 , 0.08111937,\n",
            "       0.08111937, 0.083599  , 0.08324478, 0.08714133, 0.08182784,\n",
            "       0.08111937, 0.08076514, 0.07863975, 0.0846617 , 0.08395324,\n",
            "       0.08076514, 0.08182784, 0.08501594, 0.08607864, 0.08289053,\n",
            "       0.08218208, 0.08005667, 0.08076514, 0.08926674, 0.08962097,\n",
            "       0.08076514, 0.08537017, 0.08537017, 0.08147361, 0.08572441,\n",
            "       0.09174636, 0.0846617 , 0.08678711, 0.08643286, 0.11760539,\n",
            "       0.10414452, 0.1027276 , 0.09599716, 0.10131066, 0.10591568,\n",
            "       0.10520723, 0.10237335, 0.09776833, 0.09564293, 0.0963514 ]), array([0.08714133, 0.08218208, 0.08643286, 0.09139213, 0.09387177,\n",
            "       0.08855827, 0.08537017, 0.08855827, 0.08430747, 0.08430747,\n",
            "       0.08749558, 0.08537017, 0.08147361, 0.07757704, 0.08218208,\n",
            "       0.07970244, 0.07332625, 0.0793482 , 0.08111937, 0.08111937,\n",
            "       0.083599  , 0.08324478, 0.08714133, 0.08182784, 0.08111937,\n",
            "       0.08076514, 0.07863975, 0.0846617 , 0.08395324, 0.08076514,\n",
            "       0.08182784, 0.08501594, 0.08607864, 0.08289053, 0.08218208,\n",
            "       0.08005667, 0.08076514, 0.08926674, 0.08962097, 0.08076514,\n",
            "       0.08537017, 0.08537017, 0.08147361, 0.08572441, 0.09174636,\n",
            "       0.0846617 , 0.08678711, 0.08643286, 0.11760539, 0.10414452,\n",
            "       0.1027276 , 0.09599716, 0.10131066, 0.10591568, 0.10520723,\n",
            "       0.10237335, 0.09776833, 0.09564293, 0.0963514 , 0.09493446])]\n",
            "\n",
            "[0.09493446443319091, 0.09705985754598807]\n"
          ],
          "name": "stdout"
        }
      ]
    },
    {
      "cell_type": "code",
      "metadata": {
        "id": "JXSDb1FQfFZx"
      },
      "source": [
        "x_train , y_train = np.array(x_train) , np.array(y_train)"
      ],
      "execution_count": null,
      "outputs": []
    },
    {
      "cell_type": "code",
      "metadata": {
        "colab": {
          "base_uri": "https://localhost:8080/"
        },
        "id": "25fm2ZxmgHL6",
        "outputId": "e8c476f2-902b-4a17-e6ff-8da05837dd36"
      },
      "source": [
        "x_train.shape[0]"
      ],
      "execution_count": null,
      "outputs": [
        {
          "output_type": "execute_result",
          "data": {
            "text/plain": [
              "1319"
            ]
          },
          "metadata": {
            "tags": []
          },
          "execution_count": 108
        }
      ]
    },
    {
      "cell_type": "code",
      "metadata": {
        "colab": {
          "base_uri": "https://localhost:8080/"
        },
        "id": "vo5EhbL-gf0o",
        "outputId": "127bf056-9bb1-426d-d214-8eee847bc96e"
      },
      "source": [
        "x_train.shape[1]"
      ],
      "execution_count": null,
      "outputs": [
        {
          "output_type": "execute_result",
          "data": {
            "text/plain": [
              "60"
            ]
          },
          "metadata": {
            "tags": []
          },
          "execution_count": 109
        }
      ]
    },
    {
      "cell_type": "code",
      "metadata": {
        "colab": {
          "base_uri": "https://localhost:8080/"
        },
        "id": "DzDktLRZhu4V",
        "outputId": "2d2b1337-4a28-4b69-dedb-ab99f86f589f"
      },
      "source": [
        "x_train = np.reshape(x_train, (x_train.shape[0] , x_train.shape[1] , 1))\r\n",
        "x_train.shape"
      ],
      "execution_count": null,
      "outputs": [
        {
          "output_type": "execute_result",
          "data": {
            "text/plain": [
              "(1319, 60, 1)"
            ]
          },
          "metadata": {
            "tags": []
          },
          "execution_count": 110
        }
      ]
    },
    {
      "cell_type": "code",
      "metadata": {
        "id": "QQR2XoCfgvyE"
      },
      "source": [
        "#CREATE A MODEL\r\n",
        "Model = Sequential()\r\n",
        "Model.add(LSTM( 50 , return_sequences = True , input_shape = (x_train.shape[1] , 1) ))\r\n",
        "Model.add(LSTM( 50 , return_sequences= False ))\r\n",
        "Model.add(Dense(25))\r\n",
        "Model.add(Dense(1))\r\n"
      ],
      "execution_count": null,
      "outputs": []
    },
    {
      "cell_type": "code",
      "metadata": {
        "id": "NKYf3MYBixyZ"
      },
      "source": [
        "Model.compile(optimizer='adam' , loss = 'mean_squared_error')"
      ],
      "execution_count": null,
      "outputs": []
    },
    {
      "cell_type": "code",
      "metadata": {
        "colab": {
          "base_uri": "https://localhost:8080/"
        },
        "id": "tOzEGQirplKI",
        "outputId": "6df0b6ea-ad6b-4e20-ca55-b0e429250263"
      },
      "source": [
        "Model.fit(x_train , y_train , batch_size= 1 , epochs= 1)"
      ],
      "execution_count": null,
      "outputs": [
        {
          "output_type": "stream",
          "text": [
            "1319/1319 [==============================] - 43s 30ms/step - loss: 0.0036\n"
          ],
          "name": "stdout"
        },
        {
          "output_type": "execute_result",
          "data": {
            "text/plain": [
              "<tensorflow.python.keras.callbacks.History at 0x7f7620919160>"
            ]
          },
          "metadata": {
            "tags": []
          },
          "execution_count": 113
        }
      ]
    },
    {
      "cell_type": "code",
      "metadata": {
        "id": "NrGS9Rk1p27_"
      },
      "source": [
        "test_data = scaled_data[training_data_len-60: , :]\r\n",
        "\r\n",
        "x_test = []\r\n",
        "y_test = raw_data[training_data_len: , : ]\r\n",
        "\r\n",
        "for i in range(60 , len(test_data)):\r\n",
        "  x_test.append(test_data[i-60:i , 0 ])\r\n"
      ],
      "execution_count": null,
      "outputs": []
    },
    {
      "cell_type": "code",
      "metadata": {
        "colab": {
          "base_uri": "https://localhost:8080/"
        },
        "id": "Mlwq4gYiq-Rv",
        "outputId": "8f867644-df70-414e-d140-6c6d17ff205a"
      },
      "source": [
        "x_test = np.array(x_test)\r\n",
        "x_test.shape"
      ],
      "execution_count": null,
      "outputs": [
        {
          "output_type": "execute_result",
          "data": {
            "text/plain": [
              "(344, 60)"
            ]
          },
          "metadata": {
            "tags": []
          },
          "execution_count": 115
        }
      ]
    },
    {
      "cell_type": "code",
      "metadata": {
        "id": "HbTJPebJsMGh"
      },
      "source": [
        "x_test = np.reshape(x_test , (x_test.shape[0] , x_test.shape[1] , 1))"
      ],
      "execution_count": null,
      "outputs": []
    },
    {
      "cell_type": "code",
      "metadata": {
        "id": "CvpH8_wHsP6z"
      },
      "source": [
        "predictions =  Model.predict(x_test)\r\n",
        "prediction = scaler.inverse_transform(predictions)"
      ],
      "execution_count": null,
      "outputs": []
    },
    {
      "cell_type": "code",
      "metadata": {
        "colab": {
          "base_uri": "https://localhost:8080/"
        },
        "id": "K7Cby9YEtaOT",
        "outputId": "da4aea84-fce2-44be-be63-08d8bf9843e3"
      },
      "source": [
        "print(len(prediction))"
      ],
      "execution_count": null,
      "outputs": [
        {
          "output_type": "stream",
          "text": [
            "344\n"
          ],
          "name": "stdout"
        }
      ]
    },
    {
      "cell_type": "code",
      "metadata": {
        "id": "svLdS-moteyh"
      },
      "source": [
        "rmse = np.sqrt(np.mean(prediction-y_test)**2)"
      ],
      "execution_count": null,
      "outputs": []
    },
    {
      "cell_type": "code",
      "metadata": {
        "colab": {
          "base_uri": "https://localhost:8080/"
        },
        "id": "pUEIJOlbuD04",
        "outputId": "dcbac08a-5006-4a85-ae1f-5d1b496a7a51"
      },
      "source": [
        "rmse"
      ],
      "execution_count": null,
      "outputs": [
        {
          "output_type": "execute_result",
          "data": {
            "text/plain": [
              "3.077990265779717"
            ]
          },
          "metadata": {
            "tags": []
          },
          "execution_count": 120
        }
      ]
    },
    {
      "cell_type": "code",
      "metadata": {
        "colab": {
          "base_uri": "https://localhost:8080/",
          "height": 447
        },
        "id": "y2zDBl2uuEu-",
        "outputId": "ce0ff9a2-8ce4-454e-fc38-bc0bdfe46f55"
      },
      "source": [
        "train = data[: training_data_len]\r\n",
        "valid = data[training_data_len : ]\r\n",
        "valid['Prediction'] = prediction\r\n",
        "plt.title('Prediction OF Stock ')\r\n",
        "plt.xlabel('Date' , fontsize = 18)\r\n",
        "plt.ylabel('Stock Price Rs.' , fontsize = 18)\r\n",
        "plt.plot(train['Close'])\r\n",
        "plt.plot(valid[['Close' , 'Prediction']])\r\n",
        "plt.legend(['Train' , 'Valid' , 'Prediction'] , loc = 'lower right')"
      ],
      "execution_count": null,
      "outputs": [
        {
          "output_type": "stream",
          "text": [
            "/usr/local/lib/python3.6/dist-packages/ipykernel_launcher.py:3: SettingWithCopyWarning: \n",
            "A value is trying to be set on a copy of a slice from a DataFrame.\n",
            "Try using .loc[row_indexer,col_indexer] = value instead\n",
            "\n",
            "See the caveats in the documentation: https://pandas.pydata.org/pandas-docs/stable/user_guide/indexing.html#returning-a-view-versus-a-copy\n",
            "  This is separate from the ipykernel package so we can avoid doing imports until\n"
          ],
          "name": "stderr"
        },
        {
          "output_type": "execute_result",
          "data": {
            "text/plain": [
              "<matplotlib.legend.Legend at 0x7f761facb908>"
            ]
          },
          "metadata": {
            "tags": []
          },
          "execution_count": 121
        },
        {
          "output_type": "display_data",
          "data": {
            "image/png": "[encoded data removed]",
            "text/plain": [
              "<Figure size 432x288 with 1 Axes>"
            ]
          },
          "metadata": {
            "tags": []
          }
        }
      ]
    },
    {
      "cell_type": "code",
      "metadata": {
        "colab": {
          "base_uri": "https://localhost:8080/",
          "height": 446
        },
        "id": "AyimVr1zvzm1",
        "outputId": "dd6ee06c-dce8-4bf5-a23c-e5b9e29b6c95"
      },
      "source": [
        "valid"
      ],
      "execution_count": null,
      "outputs": [
        {
          "output_type": "execute_result",
          "data": {
            "text/html": [
              "<div>\n",
              "<style scoped>\n",
              "    .dataframe tbody tr th:only-of-type {\n",
              "        vertical-align: middle;\n",
              "    }\n",
              "\n",
              "    .dataframe tbody tr th {\n",
              "        vertical-align: top;\n",
              "    }\n",
              "\n",
              "    .dataframe thead th {\n",
              "        text-align: right;\n",
              "    }\n",
              "</style>\n",
              "<table border=\"1\" class=\"dataframe\">\n",
              "  <thead>\n",
              "    <tr style=\"text-align: right;\">\n",
              "      <th></th>\n",
              "      <th>Close</th>\n",
              "      <th>Prediction</th>\n",
              "    </tr>\n",
              "    <tr>\n",
              "      <th>Date</th>\n",
              "      <th></th>\n",
              "      <th></th>\n",
              "    </tr>\n",
              "  </thead>\n",
              "  <tbody>\n",
              "    <tr>\n",
              "      <th>2017-10-12</th>\n",
              "      <td>1274.099976</td>\n",
              "      <td>1232.879639</td>\n",
              "    </tr>\n",
              "    <tr>\n",
              "      <th>2017-10-13</th>\n",
              "      <td>1279.300049</td>\n",
              "      <td>1237.392212</td>\n",
              "    </tr>\n",
              "    <tr>\n",
              "      <th>2017-10-16</th>\n",
              "      <td>1292.199951</td>\n",
              "      <td>1243.426880</td>\n",
              "    </tr>\n",
              "    <tr>\n",
              "      <th>2017-10-17</th>\n",
              "      <td>1297.275024</td>\n",
              "      <td>1250.769897</td>\n",
              "    </tr>\n",
              "    <tr>\n",
              "      <th>2017-10-18</th>\n",
              "      <td>1293.300049</td>\n",
              "      <td>1258.497803</td>\n",
              "    </tr>\n",
              "    <tr>\n",
              "      <th>...</th>\n",
              "      <td>...</td>\n",
              "      <td>...</td>\n",
              "    </tr>\n",
              "    <tr>\n",
              "      <th>2019-02-25</th>\n",
              "      <td>1985.150024</td>\n",
              "      <td>1806.553589</td>\n",
              "    </tr>\n",
              "    <tr>\n",
              "      <th>2019-02-26</th>\n",
              "      <td>2038.699951</td>\n",
              "      <td>1803.326782</td>\n",
              "    </tr>\n",
              "    <tr>\n",
              "      <th>2019-02-27</th>\n",
              "      <td>2058.100098</td>\n",
              "      <td>1808.131958</td>\n",
              "    </tr>\n",
              "    <tr>\n",
              "      <th>2019-02-28</th>\n",
              "      <td>1983.449951</td>\n",
              "      <td>1817.684570</td>\n",
              "    </tr>\n",
              "    <tr>\n",
              "      <th>2019-03-01</th>\n",
              "      <td>1995.400024</td>\n",
              "      <td>1822.412720</td>\n",
              "    </tr>\n",
              "  </tbody>\n",
              "</table>\n",
              "<p>344 rows × 2 columns</p>\n",
              "</div>"
            ],
            "text/plain": [
              "                  Close   Prediction\n",
              "Date                                \n",
              "2017-10-12  1274.099976  1232.879639\n",
              "2017-10-13  1279.300049  1237.392212\n",
              "2017-10-16  1292.199951  1243.426880\n",
              "2017-10-17  1297.275024  1250.769897\n",
              "2017-10-18  1293.300049  1258.497803\n",
              "...                 ...          ...\n",
              "2019-02-25  1985.150024  1806.553589\n",
              "2019-02-26  2038.699951  1803.326782\n",
              "2019-02-27  2058.100098  1808.131958\n",
              "2019-02-28  1983.449951  1817.684570\n",
              "2019-03-01  1995.400024  1822.412720\n",
              "\n",
              "[344 rows x 2 columns]"
            ]
          },
          "metadata": {
            "tags": []
          },
          "execution_count": 96
        }
      ]
    },
    {
      "cell_type": "code",
      "metadata": {
        "id": "6At2tgn2v1en"
      },
      "source": [
        ""
      ],
      "execution_count": null,
      "outputs": []
    }
  ]
}